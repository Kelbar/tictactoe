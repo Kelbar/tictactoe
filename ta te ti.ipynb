{
 "cells": [
  {
   "cell_type": "code",
   "execution_count": 2,
   "metadata": {},
   "outputs": [],
   "source": [
    "def display_board(board):\n",
    "    print(board[1]+'|'+board[2]+'|'+board[3])\n",
    "    print('-----')\n",
    "    print(board[4]+'|'+board[5]+'|'+board[6])\n",
    "    print('-----')\n",
    "    print(board[7]+'|'+board[8]+'|'+board[9])"
   ]
  },
  {
   "cell_type": "code",
   "execution_count": 3,
   "metadata": {
    "scrolled": true
   },
   "outputs": [
    {
     "name": "stdout",
     "output_type": "stream",
     "text": [
      "1 |2 |3 \n",
      "-----\n",
      "4 |5 |6 \n",
      "-----\n",
      "7 |8 |9 \n",
      "['1 ']\n"
     ]
    }
   ],
   "source": [
    "test = ['V','1 ','2 ','3 ','4 ','5 ','6 ','7 ','8 ', '9 ']\n",
    "\n",
    "\n",
    "display_board(test)\n",
    "\n",
    "caca = test[1:3:2]\n",
    "print(caca)"
   ]
  },
  {
   "cell_type": "code",
   "execution_count": 4,
   "metadata": {},
   "outputs": [],
   "source": [
    "\n",
    "\n",
    "def choice():\n",
    "    xoo = ' '\n",
    "    while xoo != 'X' or xoo != 'O':\n",
    "        xoo = input('Select player 1 mark: X or O: ')\n",
    "        if xoo == 'X' or xoo == 'O':\n",
    "            break\n",
    "    player1 = xoo\n",
    "    if player1 == 'X':\n",
    "        player2 = 'O'\n",
    "    else:\n",
    "        player2 = 'X'\n",
    "    return(player1, player2)\n"
   ]
  },
  {
   "cell_type": "code",
   "execution_count": 6,
   "metadata": {},
   "outputs": [
    {
     "name": "stdout",
     "output_type": "stream",
     "text": [
      "Select player 1 mark: X or O: X\n"
     ]
    }
   ],
   "source": [
    "p1, p2 = choice()"
   ]
  },
  {
   "cell_type": "code",
   "execution_count": 7,
   "metadata": {},
   "outputs": [
    {
     "name": "stdout",
     "output_type": "stream",
     "text": [
      "X\n"
     ]
    }
   ],
   "source": [
    "print(p1)"
   ]
  },
  {
   "cell_type": "code",
   "execution_count": 8,
   "metadata": {},
   "outputs": [],
   "source": [
    "def select_position():\n",
    "    position = ' '\n",
    "    within_range = False\n",
    "    while position.isdigit() == False or within_range == False:\n",
    "        position = input('Select position you beautiful gamer ')\n",
    "        if position.isdigit() == False:\n",
    "            print(\"Whaaaaaat?! You did not enter an integer. Again pleeeeease!\")\n",
    "        if position.isdigit() == True:\n",
    "            if int(position) in range(0,10):\n",
    "                within_range = True\n",
    "            else:\n",
    "                within_range = False\n",
    "                print('fuera de rango pa!')\n",
    "    return int(position)"
   ]
  },
  {
   "cell_type": "code",
   "execution_count": 9,
   "metadata": {},
   "outputs": [],
   "source": [
    "def place_marker(board, mark, position):\n",
    "    free = False\n",
    "    while free == False:\n",
    "        if board[position] == ' ':\n",
    "            board[position] = mark\n",
    "            free = True\n",
    "        elif board[position] != ' ':\n",
    "            position = select_position()\n",
    "            free = False\n",
    "    return board \n",
    "    \n"
   ]
  },
  {
   "cell_type": "code",
   "execution_count": 10,
   "metadata": {},
   "outputs": [],
   "source": [
    "def winner(board, mark):\n",
    "    return((board[4] == mark and board[5] == mark and board[6] == mark) or\n",
    "    (board[1] == mark and board[2] == mark and board[3] == mark) or\n",
    "    (board[7] == mark and board[4] == mark and board[1] == mark) or\n",
    "    (board[8] == mark and board[5] == mark and board[2] == mark) or\n",
    "    (board[9] == mark and board[6] == mark and board[3] == mark) or\n",
    "    (board[2] == mark and board[5] == mark and board[8] == mark) or\n",
    "    (board[7] == mark and board[5] == mark and board[3] == mark) or\n",
    "    (board[9] == mark and board[5] == mark and board[1] == mark))\n",
    "\n",
    "def check_winner(board, mark, hola):\n",
    "    if hola == True:\n",
    "        print(f\"Player {mark} wins! In your face madafaca!\")\n",
    "        game = False\n",
    "        return game\n",
    "    elif ' ' not in board[1::]:\n",
    "        print(\"Oh my gooooooooooooooooood! It's full! This is a draw!\")\n",
    "        game = False \n",
    "        return game\n",
    "    else:\n",
    "        game = True\n",
    "        return game\n",
    "   "
   ]
  },
  {
   "cell_type": "code",
   "execution_count": 11,
   "metadata": {},
   "outputs": [],
   "source": [
    "def space_check(board, position):\n",
    "    while board[position] == ' ':\n",
    "        if board[position] == ' ':\n",
    "            print('What are you doing! Are you blind? The position is taken! ')\n",
    "        if board[position] != ' ':\n",
    "            break"
   ]
  },
  {
   "cell_type": "code",
   "execution_count": 12,
   "metadata": {},
   "outputs": [],
   "source": [
    "def replay():\n",
    "    yon = ' '\n",
    "    while yon != 'Y' or yon != 'N':\n",
    "        yon = input('Do you wanna play again? ')\n",
    "        if yon == 'Y' or yon == 'N':\n",
    "            break\n",
    "    if yon == 'Y':\n",
    "        return False"
   ]
  },
  {
   "cell_type": "code",
   "execution_count": 13,
   "metadata": {},
   "outputs": [
    {
     "name": "stdout",
     "output_type": "stream",
     "text": [
      "X|O|O\n",
      "-----\n",
      " |X| \n",
      "-----\n",
      " | |X\n",
      "Player X wins! In your face madafaca!\n",
      "Do you wanna play again? N\n"
     ]
    }
   ],
   "source": [
    "print('Welcome to Tic Tac Toe!')\n",
    "print('Position example')\n",
    "test_example = ['V','1','2','3','4','5','6','7','8', '9']\n",
    "display_board(test_example)\n",
    "from IPython.display import clear_output\n",
    "end = False\n",
    "while end == False:\n",
    "    test = ['V',' ',' ',' ',' ',' ',' ',' ',' ', ' ']\n",
    "    p1, p2 = choice()\n",
    "    position = select_position()\n",
    "    game_on = True\n",
    "    while game_on == True:\n",
    "        place_marker(test, p1, position)\n",
    "        clear_output()\n",
    "        display_board(test)\n",
    "        bool_win = winner(test, p1)\n",
    "        game_on = check_winner(test, p1, bool_win)\n",
    "        if game_on == False:\n",
    "            break\n",
    "        place_marker(test, p2, position)\n",
    "        clear_output()\n",
    "        display_board(test)\n",
    "        bool_win = winner(test, p1)\n",
    "        game_on = check_winner(test, p2, bool_win)\n",
    "        \n",
    "    if game_on == False:\n",
    "        end = replay()   \n",
    "        "
   ]
  },
  {
   "cell_type": "code",
   "execution_count": null,
   "metadata": {},
   "outputs": [],
   "source": []
  }
 ],
 "metadata": {
  "kernelspec": {
   "display_name": "Python 3",
   "language": "python",
   "name": "python3"
  },
  "language_info": {
   "codemirror_mode": {
    "name": "ipython",
    "version": 3
   },
   "file_extension": ".py",
   "mimetype": "text/x-python",
   "name": "python",
   "nbconvert_exporter": "python",
   "pygments_lexer": "ipython3",
   "version": "3.8.5"
  }
 },
 "nbformat": 4,
 "nbformat_minor": 4
}
